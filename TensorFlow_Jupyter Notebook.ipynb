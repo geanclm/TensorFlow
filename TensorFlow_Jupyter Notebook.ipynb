{
 "cells": [
  {
   "cell_type": "code",
   "execution_count": 1,
   "id": "fe6c475a",
   "metadata": {},
   "outputs": [],
   "source": [
    "# Projeto de Estudo TensorFlow\n",
    "# by geanclm on 15/12/2023"
   ]
  },
  {
   "cell_type": "code",
   "execution_count": null,
   "id": "b73629b0",
   "metadata": {},
   "outputs": [],
   "source": [
    "# Considerando uma situação em que a solução é a equação Y=3X+1"
   ]
  },
  {
   "cell_type": "code",
   "execution_count": 4,
   "id": "3034c577",
   "metadata": {},
   "outputs": [],
   "source": [
    "# bibliotecas para lidar com dados\n",
    "import numpy as np\n",
    "\n",
    "# trabalhar com os dados com rede neural\n",
    "import tensorflow as tf\n",
    "from tensorflow import keras\n",
    "\n",
    "# Desativar os avisos\n",
    "import warnings\n",
    "warnings.filterwarnings('ignore')"
   ]
  },
  {
   "cell_type": "markdown",
   "id": "2dda349d",
   "metadata": {},
   "source": [
    "[Introdução ao Machine Learning](https://www.youtube.com/watch?v=t5z5lyrb-7s&list=PLV_OFkA1SYkwhCvKdG46lEHcnxYgRxe0Q&index=3&t=234s&ab_channel=TensorFlow)"
   ]
  },
  {
   "cell_type": "markdown",
   "id": "d43e5d53",
   "metadata": {},
   "source": [
    "[Curso TensorFlow para iniciantes](https://www.youtube.com/watch?v=JHsnHgb9hDo&list=PLV_OFkA1SYkwhCvKdG46lEHcnxYgRxe0Q&index=4&t=5s&ab_channel=Did%C3%A1ticaTech)"
   ]
  },
  {
   "cell_type": "code",
   "execution_count": 5,
   "id": "4dc96b4c",
   "metadata": {},
   "outputs": [
    {
     "name": "stdout",
     "output_type": "stream",
     "text": [
      "WARNING:tensorflow:From C:\\Users\\geanc\\anaconda3\\Lib\\site-packages\\keras\\src\\backend.py:873: The name tf.get_default_graph is deprecated. Please use tf.compat.v1.get_default_graph instead.\n",
      "\n"
     ]
    }
   ],
   "source": [
    "model = tf.keras.Sequential([keras.layers.Dense(units=1, input_shape=[1])])"
   ]
  },
  {
   "cell_type": "code",
   "execution_count": 6,
   "id": "f28d045a",
   "metadata": {},
   "outputs": [],
   "source": [
    "X = np.array([-1.0, 0.0, 1.0, 2.0, 3.0, 4.0], dtype=float)\n",
    "y = np.array([-2.0, 1.0, 4.0, 7.0, 10.0, 13.0], dtype=float)"
   ]
  },
  {
   "cell_type": "code",
   "execution_count": 10,
   "id": "56ff6cdc",
   "metadata": {},
   "outputs": [
    {
     "name": "stdout",
     "output_type": "stream",
     "text": [
      "Epoch 1/50\n",
      "1/1 [==============================] - 0s 239ms/step - loss: 2.0943e-06\n",
      "Epoch 2/50\n",
      "1/1 [==============================] - 0s 5ms/step - loss: 2.0514e-06\n",
      "Epoch 3/50\n",
      "1/1 [==============================] - 0s 7ms/step - loss: 2.0090e-06\n",
      "Epoch 4/50\n",
      "1/1 [==============================] - 0s 5ms/step - loss: 1.9679e-06\n",
      "Epoch 5/50\n",
      "1/1 [==============================] - 0s 7ms/step - loss: 1.9276e-06\n",
      "Epoch 6/50\n",
      "1/1 [==============================] - 0s 4ms/step - loss: 1.8879e-06\n",
      "Epoch 7/50\n",
      "1/1 [==============================] - 0s 7ms/step - loss: 1.8491e-06\n",
      "Epoch 8/50\n",
      "1/1 [==============================] - 0s 5ms/step - loss: 1.8112e-06\n",
      "Epoch 9/50\n",
      "1/1 [==============================] - 0s 7ms/step - loss: 1.7739e-06\n",
      "Epoch 10/50\n",
      "1/1 [==============================] - 0s 5ms/step - loss: 1.7375e-06\n",
      "Epoch 11/50\n",
      "1/1 [==============================] - 0s 7ms/step - loss: 1.7018e-06\n",
      "Epoch 12/50\n",
      "1/1 [==============================] - 0s 4ms/step - loss: 1.6669e-06\n",
      "Epoch 13/50\n",
      "1/1 [==============================] - 0s 6ms/step - loss: 1.6326e-06\n",
      "Epoch 14/50\n",
      "1/1 [==============================] - 0s 5ms/step - loss: 1.5992e-06\n",
      "Epoch 15/50\n",
      "1/1 [==============================] - 0s 7ms/step - loss: 1.5663e-06\n",
      "Epoch 16/50\n",
      "1/1 [==============================] - 0s 5ms/step - loss: 1.5343e-06\n",
      "Epoch 17/50\n",
      "1/1 [==============================] - 0s 5ms/step - loss: 1.5027e-06\n",
      "Epoch 18/50\n",
      "1/1 [==============================] - 0s 7ms/step - loss: 1.4717e-06\n",
      "Epoch 19/50\n",
      "1/1 [==============================] - 0s 5ms/step - loss: 1.4417e-06\n",
      "Epoch 20/50\n",
      "1/1 [==============================] - 0s 7ms/step - loss: 1.4120e-06\n",
      "Epoch 21/50\n",
      "1/1 [==============================] - 0s 5ms/step - loss: 1.3830e-06\n",
      "Epoch 22/50\n",
      "1/1 [==============================] - 0s 8ms/step - loss: 1.3544e-06\n",
      "Epoch 23/50\n",
      "1/1 [==============================] - 0s 10ms/step - loss: 1.3268e-06\n",
      "Epoch 24/50\n",
      "1/1 [==============================] - 0s 5ms/step - loss: 1.2997e-06\n",
      "Epoch 25/50\n",
      "1/1 [==============================] - 0s 5ms/step - loss: 1.2728e-06\n",
      "Epoch 26/50\n",
      "1/1 [==============================] - 0s 7ms/step - loss: 1.2465e-06\n",
      "Epoch 27/50\n",
      "1/1 [==============================] - 0s 7ms/step - loss: 1.2211e-06\n",
      "Epoch 28/50\n",
      "1/1 [==============================] - 0s 5ms/step - loss: 1.1959e-06\n",
      "Epoch 29/50\n",
      "1/1 [==============================] - 0s 6ms/step - loss: 1.1714e-06\n",
      "Epoch 30/50\n",
      "1/1 [==============================] - 0s 4ms/step - loss: 1.1473e-06\n",
      "Epoch 31/50\n",
      "1/1 [==============================] - 0s 6ms/step - loss: 1.1239e-06\n",
      "Epoch 32/50\n",
      "1/1 [==============================] - 0s 5ms/step - loss: 1.1006e-06\n",
      "Epoch 33/50\n",
      "1/1 [==============================] - 0s 7ms/step - loss: 1.0781e-06\n",
      "Epoch 34/50\n",
      "1/1 [==============================] - 0s 4ms/step - loss: 1.0560e-06\n",
      "Epoch 35/50\n",
      "1/1 [==============================] - 0s 7ms/step - loss: 1.0341e-06\n",
      "Epoch 36/50\n",
      "1/1 [==============================] - 0s 5ms/step - loss: 1.0130e-06\n",
      "Epoch 37/50\n",
      "1/1 [==============================] - 0s 6ms/step - loss: 9.9204e-07\n",
      "Epoch 38/50\n",
      "1/1 [==============================] - 0s 4ms/step - loss: 9.7185e-07\n",
      "Epoch 39/50\n",
      "1/1 [==============================] - 0s 5ms/step - loss: 9.5195e-07\n",
      "Epoch 40/50\n",
      "1/1 [==============================] - 0s 4ms/step - loss: 9.3240e-07\n",
      "Epoch 41/50\n",
      "1/1 [==============================] - 0s 5ms/step - loss: 9.1318e-07\n",
      "Epoch 42/50\n",
      "1/1 [==============================] - 0s 7ms/step - loss: 8.9446e-07\n",
      "Epoch 43/50\n",
      "1/1 [==============================] - 0s 6ms/step - loss: 8.7604e-07\n",
      "Epoch 44/50\n",
      "1/1 [==============================] - 0s 5ms/step - loss: 8.5814e-07\n",
      "Epoch 45/50\n",
      "1/1 [==============================] - 0s 5ms/step - loss: 8.4068e-07\n",
      "Epoch 46/50\n",
      "1/1 [==============================] - 0s 5ms/step - loss: 8.2335e-07\n",
      "Epoch 47/50\n",
      "1/1 [==============================] - 0s 5ms/step - loss: 8.0635e-07\n",
      "Epoch 48/50\n",
      "1/1 [==============================] - 0s 4ms/step - loss: 7.8973e-07\n",
      "Epoch 49/50\n",
      "1/1 [==============================] - 0s 6ms/step - loss: 7.7334e-07\n",
      "Epoch 50/50\n",
      "1/1 [==============================] - 0s 5ms/step - loss: 7.5761e-07\n"
     ]
    },
    {
     "data": {
      "text/plain": [
       "<keras.src.callbacks.History at 0x2736725fa10>"
      ]
     },
     "execution_count": 10,
     "metadata": {},
     "output_type": "execute_result"
    }
   ],
   "source": [
    "# Treinar a rede neural\n",
    "model.compile(optimizer='sgd', loss='mean_squared_error')\n",
    "model.fit(X, y, epochs=50)"
   ]
  },
  {
   "cell_type": "code",
   "execution_count": 11,
   "id": "6bb5a587",
   "metadata": {},
   "outputs": [
    {
     "name": "stdout",
     "output_type": "stream",
     "text": [
      "1/1 [==============================] - 0s 225ms/step\n",
      "[[31.00254]]\n"
     ]
    }
   ],
   "source": [
    "# Aplcair o modelo\n",
    "print(model.predict([10.0]))"
   ]
  },
  {
   "cell_type": "code",
   "execution_count": null,
   "id": "cc36dabc",
   "metadata": {},
   "outputs": [],
   "source": []
  }
 ],
 "metadata": {
  "kernelspec": {
   "display_name": "Python 3 (ipykernel)",
   "language": "python",
   "name": "python3"
  },
  "language_info": {
   "codemirror_mode": {
    "name": "ipython",
    "version": 3
   },
   "file_extension": ".py",
   "mimetype": "text/x-python",
   "name": "python",
   "nbconvert_exporter": "python",
   "pygments_lexer": "ipython3",
   "version": "3.11.5"
  }
 },
 "nbformat": 4,
 "nbformat_minor": 5
}
