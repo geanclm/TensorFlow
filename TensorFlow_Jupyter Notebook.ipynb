{
 "cells": [
  {
   "cell_type": "code",
   "execution_count": 1,
   "id": "fe6c475a",
   "metadata": {},
   "outputs": [],
   "source": [
    "# Projeto de Estudo TensorFlow\n",
    "# by geanclm on 15/12/2023"
   ]
  },
  {
   "cell_type": "code",
   "execution_count": 2,
   "id": "b73629b0",
   "metadata": {},
   "outputs": [],
   "source": [
    "# Considerando uma situação em que a solução é a equação Y=3X+1"
   ]
  },
  {
   "cell_type": "code",
   "execution_count": 5,
   "id": "536ce3d1-d759-41a5-905d-f89e28a6e991",
   "metadata": {},
   "outputs": [],
   "source": [
    "# !pip install tensorflow"
   ]
  },
  {
   "cell_type": "code",
   "execution_count": 8,
   "id": "3034c577",
   "metadata": {},
   "outputs": [],
   "source": [
    "# bibliotecas para lidar com dados\n",
    "import numpy as np\n",
    "\n",
    "# trabalhar com os dados com rede neural\n",
    "import tensorflow as tf\n",
    "from tensorflow import keras\n",
    "\n",
    "# Desativar os avisos\n",
    "import warnings\n",
    "warnings.filterwarnings('ignore')"
   ]
  },
  {
   "cell_type": "markdown",
   "id": "2dda349d",
   "metadata": {},
   "source": [
    "[Introdução ao Machine Learning](https://www.youtube.com/watch?v=t5z5lyrb-7s&list=PLV_OFkA1SYkwhCvKdG46lEHcnxYgRxe0Q&index=3&t=234s&ab_channel=TensorFlow)"
   ]
  },
  {
   "cell_type": "markdown",
   "id": "d43e5d53",
   "metadata": {},
   "source": [
    "[Curso TensorFlow para iniciantes](https://www.youtube.com/watch?v=JHsnHgb9hDo&list=PLV_OFkA1SYkwhCvKdG46lEHcnxYgRxe0Q&index=4&t=5s&ab_channel=Did%C3%A1ticaTech)"
   ]
  },
  {
   "cell_type": "markdown",
   "id": "04eb903f-fb9a-4564-a7d5-b829131e7bdb",
   "metadata": {
    "jp-MarkdownHeadingCollapsed": true
   },
   "source": [
    "# TensorFlow - curso Google"
   ]
  },
  {
   "cell_type": "code",
   "execution_count": 14,
   "id": "4dc96b4c",
   "metadata": {},
   "outputs": [],
   "source": [
    "model = tf.keras.Sequential([tf.keras.layers.Dense(units=1, input_shape=[1])])\n",
    "model.compile(optimizer='sgd', loss='mean_squared_error')"
   ]
  },
  {
   "cell_type": "code",
   "execution_count": 15,
   "id": "f28d045a",
   "metadata": {},
   "outputs": [],
   "source": [
    "X = np.array([-1.0, 0.0, 1.0, 2.0, 3.0, 4.0], dtype=float)\n",
    "y = np.array([-2.0, 1.0, 4.0, 7.0, 10.0, 13.0], dtype=float)"
   ]
  },
  {
   "cell_type": "code",
   "execution_count": 16,
   "id": "56ff6cdc",
   "metadata": {},
   "outputs": [
    {
     "data": {
      "text/plain": [
       "<keras.src.callbacks.History at 0x1de7b793210>"
      ]
     },
     "execution_count": 16,
     "metadata": {},
     "output_type": "execute_result"
    }
   ],
   "source": [
    "# Treinar a rede neural\n",
    "model.fit(X, y, epochs=50, verbose=False)"
   ]
  },
  {
   "cell_type": "code",
   "execution_count": 18,
   "id": "c50aa68d-a3c8-4534-83de-4bb1be3d68cc",
   "metadata": {},
   "outputs": [
    {
     "data": {
      "text/plain": [
       "31"
      ]
     },
     "execution_count": 18,
     "metadata": {},
     "output_type": "execute_result"
    }
   ],
   "source": [
    "def prediction(x):\n",
    "    return 3*x + 1\n",
    "prediction(10)"
   ]
  },
  {
   "cell_type": "code",
   "execution_count": 17,
   "id": "6bb5a587",
   "metadata": {},
   "outputs": [
    {
     "name": "stdout",
     "output_type": "stream",
     "text": [
      "1/1 [==============================] - 0s 47ms/step\n",
      "[[30.48672]]\n"
     ]
    }
   ],
   "source": [
    "# Aplcair o modelo\n",
    "print(model.predict([10.0]))"
   ]
  },
  {
   "cell_type": "markdown",
   "id": "dc5ce698-6015-4b5b-b7f3-e8a10c3e9567",
   "metadata": {
    "jp-MarkdownHeadingCollapsed": true
   },
   "source": [
    "# Conversão de temperatura Celsius para Fahreinheit"
   ]
  },
  {
   "cell_type": "code",
   "execution_count": null,
   "id": "5110c348-a8a7-4021-adb3-8e4b02290639",
   "metadata": {},
   "outputs": [],
   "source": [
    "model = tf.keras.Sequential([tf.keras.layers.Dense(units=1, input_shape=[1])])\n",
    "model.compile(optimizer=tf.keras.optimizers.Adam(0.1), loss='mean_squared_error')"
   ]
  },
  {
   "cell_type": "code",
   "execution_count": 11,
   "id": "70beb1cf-eb0b-406d-a342-4afda142384e",
   "metadata": {},
   "outputs": [],
   "source": [
    "c = np.array([-40, -10,  0,  8, 15, 22,  38],  dtype=float)\n",
    "f = np.array([-40,  14, 32, 46.4, 59, 71.6, 100.4],  dtype=float)"
   ]
  },
  {
   "cell_type": "code",
   "execution_count": 12,
   "id": "cc36dabc",
   "metadata": {},
   "outputs": [],
   "source": [
    "# for i in c:\n",
    "#     print (f'{i} graus Celsius = {i*1.8+32} graus Fahrenheit')"
   ]
  },
  {
   "cell_type": "code",
   "execution_count": 18,
   "id": "549c2e6e-e9cb-44af-a4ff-7fdb52a31b14",
   "metadata": {},
   "outputs": [
    {
     "data": {
      "text/plain": [
       "<keras.src.callbacks.History at 0x281fd4b6650>"
      ]
     },
     "execution_count": 18,
     "metadata": {},
     "output_type": "execute_result"
    }
   ],
   "source": [
    "# Treinar o modelo para prever a próxima temperatura Fahrenheit\n",
    "model.fit(c, f, epochs=500, verbose=False)"
   ]
  },
  {
   "cell_type": "code",
   "execution_count": 27,
   "id": "ad9cd67a-8998-450c-8346-87f1d570e8e7",
   "metadata": {},
   "outputs": [
    {
     "name": "stdout",
     "output_type": "stream",
     "text": [
      "50°C = 212.00°F\n"
     ]
    }
   ],
   "source": [
    "# simulando de forma convencional em funmção do python para encontrar o resultado\n",
    "var = 100\n",
    "def fahrenheit(celsius):\n",
    "    fahrenheit = celsius * 1.8 + 32\n",
    "    return fahrenheit\n",
    "    \n",
    "resultado = fahrenheit(var)\n",
    "print(f\"50°C = {resultado:.2f}°F\")"
   ]
  },
  {
   "cell_type": "code",
   "execution_count": 28,
   "id": "e8240f2a-b69f-4f78-ad47-6b4089da27df",
   "metadata": {},
   "outputs": [
    {
     "name": "stdout",
     "output_type": "stream",
     "text": [
      "1/1 [==============================] - 0s 36ms/step\n",
      "[[211.99292]]\n"
     ]
    }
   ],
   "source": [
    "# Aplcair o modelo\n",
    "print(model.predict([var]))"
   ]
  }
 ],
 "metadata": {
  "kernelspec": {
   "display_name": "Python 3 (ipykernel)",
   "language": "python",
   "name": "python3"
  },
  "language_info": {
   "codemirror_mode": {
    "name": "ipython",
    "version": 3
   },
   "file_extension": ".py",
   "mimetype": "text/x-python",
   "name": "python",
   "nbconvert_exporter": "python",
   "pygments_lexer": "ipython3",
   "version": "3.11.5"
  }
 },
 "nbformat": 4,
 "nbformat_minor": 5
}
