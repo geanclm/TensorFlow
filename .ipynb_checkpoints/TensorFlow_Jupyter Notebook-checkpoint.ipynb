{
 "cells": [
  {
   "cell_type": "code",
   "execution_count": 1,
   "id": "fe6c475a",
   "metadata": {},
   "outputs": [],
   "source": [
    "# Projeto de Estudo TensorFlow\n",
    "# by geanclm on 15/12/2023"
   ]
  },
  {
   "cell_type": "code",
   "execution_count": 2,
   "id": "b73629b0",
   "metadata": {},
   "outputs": [],
   "source": [
    "# Considerando uma situação em que a solução é a equação Y=3X+1"
   ]
  },
  {
   "cell_type": "code",
   "execution_count": 3,
   "id": "3034c577",
   "metadata": {},
   "outputs": [
    {
     "name": "stdout",
     "output_type": "stream",
     "text": [
      "WARNING:tensorflow:From C:\\Users\\geanc\\anaconda3\\Lib\\site-packages\\keras\\src\\losses.py:2976: The name tf.losses.sparse_softmax_cross_entropy is deprecated. Please use tf.compat.v1.losses.sparse_softmax_cross_entropy instead.\n",
      "\n"
     ]
    }
   ],
   "source": [
    "# bibliotecas para lidar com dados\n",
    "import numpy as np\n",
    "\n",
    "# trabalhar com os dados com rede neural\n",
    "import tensorflow as tf\n",
    "from tensorflow import keras\n",
    "\n",
    "# Desativar os avisos\n",
    "import warnings\n",
    "warnings.filterwarnings('ignore')"
   ]
  },
  {
   "cell_type": "markdown",
   "id": "2dda349d",
   "metadata": {},
   "source": [
    "[Introdução ao Machine Learning](https://www.youtube.com/watch?v=t5z5lyrb-7s&list=PLV_OFkA1SYkwhCvKdG46lEHcnxYgRxe0Q&index=3&t=234s&ab_channel=TensorFlow)"
   ]
  },
  {
   "cell_type": "markdown",
   "id": "d43e5d53",
   "metadata": {},
   "source": [
    "[Curso TensorFlow para iniciantes](https://www.youtube.com/watch?v=JHsnHgb9hDo&list=PLV_OFkA1SYkwhCvKdG46lEHcnxYgRxe0Q&index=4&t=5s&ab_channel=Did%C3%A1ticaTech)"
   ]
  },
  {
   "cell_type": "code",
   "execution_count": 4,
   "id": "4dc96b4c",
   "metadata": {},
   "outputs": [
    {
     "name": "stdout",
     "output_type": "stream",
     "text": [
      "WARNING:tensorflow:From C:\\Users\\geanc\\anaconda3\\Lib\\site-packages\\keras\\src\\backend.py:873: The name tf.get_default_graph is deprecated. Please use tf.compat.v1.get_default_graph instead.\n",
      "\n"
     ]
    }
   ],
   "source": [
    "model = tf.keras.Sequential([keras.layers.Dense(units=1, input_shape=[1])])"
   ]
  },
  {
   "cell_type": "code",
   "execution_count": 5,
   "id": "f28d045a",
   "metadata": {},
   "outputs": [],
   "source": [
    "X = np.array([-1.0, 0.0, 1.0, 2.0, 3.0, 4.0], dtype=float)\n",
    "y = np.array([-2.0, 1.0, 4.0, 7.0, 10.0, 13.0], dtype=float)"
   ]
  },
  {
   "cell_type": "code",
   "execution_count": 6,
   "id": "56ff6cdc",
   "metadata": {},
   "outputs": [
    {
     "name": "stdout",
     "output_type": "stream",
     "text": [
      "WARNING:tensorflow:From C:\\Users\\geanc\\anaconda3\\Lib\\site-packages\\keras\\src\\optimizers\\__init__.py:309: The name tf.train.Optimizer is deprecated. Please use tf.compat.v1.train.Optimizer instead.\n",
      "\n",
      "Epoch 1/50\n",
      "WARNING:tensorflow:From C:\\Users\\geanc\\anaconda3\\Lib\\site-packages\\keras\\src\\utils\\tf_utils.py:492: The name tf.ragged.RaggedTensorValue is deprecated. Please use tf.compat.v1.ragged.RaggedTensorValue instead.\n",
      "\n",
      "1/1 [==============================] - 1s 959ms/step - loss: 55.5902\n",
      "Epoch 2/50\n",
      "1/1 [==============================] - 0s 0s/step - loss: 43.7359\n",
      "Epoch 3/50\n",
      "1/1 [==============================] - 0s 5ms/step - loss: 34.4094\n",
      "Epoch 4/50\n",
      "1/1 [==============================] - 0s 15ms/step - loss: 27.0718\n",
      "Epoch 5/50\n",
      "1/1 [==============================] - 0s 12ms/step - loss: 21.2989\n",
      "Epoch 6/50\n",
      "1/1 [==============================] - 0s 3ms/step - loss: 16.7571\n",
      "Epoch 7/50\n",
      "1/1 [==============================] - 0s 6ms/step - loss: 13.1838\n",
      "Epoch 8/50\n",
      "1/1 [==============================] - 0s 13ms/step - loss: 10.3725\n",
      "Epoch 9/50\n",
      "1/1 [==============================] - 0s 13ms/step - loss: 8.1607\n",
      "Epoch 10/50\n",
      "1/1 [==============================] - 0s 2ms/step - loss: 6.4206\n",
      "Epoch 11/50\n",
      "1/1 [==============================] - 0s 7ms/step - loss: 5.0515\n",
      "Epoch 12/50\n",
      "1/1 [==============================] - 0s 11ms/step - loss: 3.9744\n",
      "Epoch 13/50\n",
      "1/1 [==============================] - 0s 11ms/step - loss: 3.1270\n",
      "Epoch 14/50\n",
      "1/1 [==============================] - 0s 7ms/step - loss: 2.4603\n",
      "Epoch 15/50\n",
      "1/1 [==============================] - 0s 14ms/step - loss: 1.9358\n",
      "Epoch 16/50\n",
      "1/1 [==============================] - 0s 9ms/step - loss: 1.5231\n",
      "Epoch 17/50\n",
      "1/1 [==============================] - 0s 10ms/step - loss: 1.1984\n",
      "Epoch 18/50\n",
      "1/1 [==============================] - 0s 0s/step - loss: 0.9429\n",
      "Epoch 19/50\n",
      "1/1 [==============================] - 0s 4ms/step - loss: 0.7420\n",
      "Epoch 20/50\n",
      "1/1 [==============================] - 0s 17ms/step - loss: 0.5839\n",
      "Epoch 21/50\n",
      "1/1 [==============================] - 0s 11ms/step - loss: 0.4594\n",
      "Epoch 22/50\n",
      "1/1 [==============================] - 0s 8ms/step - loss: 0.3616\n",
      "Epoch 23/50\n",
      "1/1 [==============================] - 0s 10ms/step - loss: 0.2846\n",
      "Epoch 24/50\n",
      "1/1 [==============================] - 0s 8ms/step - loss: 0.2240\n",
      "Epoch 25/50\n",
      "1/1 [==============================] - 0s 10ms/step - loss: 0.1763\n",
      "Epoch 26/50\n",
      "1/1 [==============================] - 0s 8ms/step - loss: 0.1388\n",
      "Epoch 27/50\n",
      "1/1 [==============================] - 0s 9ms/step - loss: 0.1093\n",
      "Epoch 28/50\n",
      "1/1 [==============================] - 0s 11ms/step - loss: 0.0861\n",
      "Epoch 29/50\n",
      "1/1 [==============================] - 0s 10ms/step - loss: 0.0678\n",
      "Epoch 30/50\n",
      "1/1 [==============================] - 0s 8ms/step - loss: 0.0534\n",
      "Epoch 31/50\n",
      "1/1 [==============================] - 0s 4ms/step - loss: 0.0421\n",
      "Epoch 32/50\n",
      "1/1 [==============================] - 0s 17ms/step - loss: 0.0332\n",
      "Epoch 33/50\n",
      "1/1 [==============================] - 0s 8ms/step - loss: 0.0262\n",
      "Epoch 34/50\n",
      "1/1 [==============================] - 0s 7ms/step - loss: 0.0207\n",
      "Epoch 35/50\n",
      "1/1 [==============================] - 0s 8ms/step - loss: 0.0164\n",
      "Epoch 36/50\n",
      "1/1 [==============================] - 0s 0s/step - loss: 0.0129\n",
      "Epoch 37/50\n",
      "1/1 [==============================] - 0s 8ms/step - loss: 0.0103\n",
      "Epoch 38/50\n",
      "1/1 [==============================] - 0s 8ms/step - loss: 0.0081\n",
      "Epoch 39/50\n",
      "1/1 [==============================] - 0s 7ms/step - loss: 0.0065\n",
      "Epoch 40/50\n",
      "1/1 [==============================] - 0s 8ms/step - loss: 0.0052\n",
      "Epoch 41/50\n",
      "1/1 [==============================] - 0s 8ms/step - loss: 0.0041\n",
      "Epoch 42/50\n",
      "1/1 [==============================] - 0s 9ms/step - loss: 0.0033\n",
      "Epoch 43/50\n",
      "1/1 [==============================] - 0s 9ms/step - loss: 0.0027\n",
      "Epoch 44/50\n",
      "1/1 [==============================] - 0s 8ms/step - loss: 0.0022\n",
      "Epoch 45/50\n",
      "1/1 [==============================] - 0s 9ms/step - loss: 0.0018\n",
      "Epoch 46/50\n",
      "1/1 [==============================] - 0s 10ms/step - loss: 0.0015\n",
      "Epoch 47/50\n",
      "1/1 [==============================] - 0s 9ms/step - loss: 0.0012\n",
      "Epoch 48/50\n",
      "1/1 [==============================] - 0s 10ms/step - loss: 0.0010\n",
      "Epoch 49/50\n",
      "1/1 [==============================] - 0s 9ms/step - loss: 8.4674e-04\n",
      "Epoch 50/50\n",
      "1/1 [==============================] - 0s 7ms/step - loss: 7.2218e-04\n"
     ]
    },
    {
     "data": {
      "text/plain": [
       "<keras.src.callbacks.History at 0x213a0225c10>"
      ]
     },
     "execution_count": 6,
     "metadata": {},
     "output_type": "execute_result"
    }
   ],
   "source": [
    "# Treinar a rede neural\n",
    "model.compile(optimizer='sgd', loss='mean_squared_error')\n",
    "model.fit(X, y, epochs=50)"
   ]
  },
  {
   "cell_type": "code",
   "execution_count": 7,
   "id": "6bb5a587",
   "metadata": {},
   "outputs": [
    {
     "name": "stdout",
     "output_type": "stream",
     "text": [
      "1/1 [==============================] - 1s 506ms/step\n",
      "[[30.97254]]\n"
     ]
    }
   ],
   "source": [
    "# Aplcair o modelo\n",
    "print(model.predict([10.0]))"
   ]
  },
  {
   "cell_type": "code",
   "execution_count": null,
   "id": "cc36dabc",
   "metadata": {},
   "outputs": [],
   "source": []
  }
 ],
 "metadata": {
  "kernelspec": {
   "display_name": "Python 3 (ipykernel)",
   "language": "python",
   "name": "python3"
  },
  "language_info": {
   "codemirror_mode": {
    "name": "ipython",
    "version": 3
   },
   "file_extension": ".py",
   "mimetype": "text/x-python",
   "name": "python",
   "nbconvert_exporter": "python",
   "pygments_lexer": "ipython3",
   "version": "3.11.5"
  }
 },
 "nbformat": 4,
 "nbformat_minor": 5
}
