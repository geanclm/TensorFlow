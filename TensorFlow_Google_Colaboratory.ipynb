{
  "nbformat": 4,
  "nbformat_minor": 0,
  "metadata": {
    "colab": {
      "provenance": [],
      "authorship_tag": "ABX9TyMIWX9D1082cWeszoKVgOG+",
      "include_colab_link": true
    },
    "kernelspec": {
      "name": "python3",
      "display_name": "Python 3"
    },
    "language_info": {
      "name": "python"
    }
  },
  "cells": [
    {
      "cell_type": "markdown",
      "metadata": {
        "id": "view-in-github",
        "colab_type": "text"
      },
      "source": [
        "<a href=\"https://colab.research.google.com/github/geanclm/TensorFlow/blob/main/TensorFlow_Google_Colaboratory.ipynb\" target=\"_parent\"><img src=\"https://colab.research.google.com/assets/colab-badge.svg\" alt=\"Open In Colab\"/></a>"
      ]
    },
    {
      "cell_type": "code",
      "execution_count": null,
      "metadata": {
        "id": "gxQAFHdAgl_x"
      },
      "outputs": [],
      "source": [
        "# Projeto de Estudo TensorFlow\n",
        "# by geanclm on 15/12/2023"
      ]
    },
    {
      "cell_type": "code",
      "source": [
        "# Considerando uma situação em que a solução é a equação Y=3X+1\n",
        "# O modelo de rede neural deve prever o próximo número"
      ],
      "metadata": {
        "id": "-qbkfJ-7grmE"
      },
      "execution_count": null,
      "outputs": []
    },
    {
      "cell_type": "markdown",
      "source": [
        "## Links de referência para estudo\n",
        "\n",
        "[Introdução ao Machine Learning](https://www.youtube.com/watch?v=t5z5lyrb-7s&list=PLV_OFkA1SYkwhCvKdG46lEHcnxYgRxe0Q&index=3&t=234s&ab_channel=TensorFlow)\n",
        "\n",
        "[Curso TensorFlow para iniciantes](https://www.youtube.com/watch?v=JHsnHgb9hDo&list=PLV_OFkA1SYkwhCvKdG46lEHcnxYgRxe0Q&index=4&t=5s&ab_channel=Did%C3%A1ticaTech)"
      ],
      "metadata": {
        "id": "LF9rrqPigxjs"
      }
    },
    {
      "cell_type": "code",
      "source": [
        "# bibliotecas para lidar com os dados\n",
        "import numpy as np\n",
        "\n",
        "# trabalhar com os dados com rede neural\n",
        "import tensorflow as tf\n",
        "from tensorflow import keras"
      ],
      "metadata": {
        "id": "SCefQDtBgteT"
      },
      "execution_count": null,
      "outputs": []
    },
    {
      "cell_type": "code",
      "source": [
        "# Links de referência para estudo"
      ],
      "metadata": {
        "id": "kEqNcBpSkh5p"
      },
      "execution_count": null,
      "outputs": []
    },
    {
      "cell_type": "code",
      "source": [
        "model = tf.keras.Sequential([keras.layers.Dense(units=1, input_shape=[1])])\n",
        "model.compile(optimizer='sgd', loss='mean_squared_error')"
      ],
      "metadata": {
        "id": "zmI-md-Sg3e0"
      },
      "execution_count": null,
      "outputs": []
    },
    {
      "cell_type": "code",
      "source": [
        "X = np.array([-1.0, 0.0, 1.0, 2.0, 3.0, 4.0], dtype=float)\n",
        "y = np.array([-2.0, 1.0, 4.0, 7.0, 10.0, 13.0], dtype=float)"
      ],
      "metadata": {
        "id": "o-X_FlWvg5Wb"
      },
      "execution_count": null,
      "outputs": []
    },
    {
      "cell_type": "code",
      "source": [
        "# Treinar a rede neural\n",
        "model.fit(X, y, epochs=50)"
      ],
      "metadata": {
        "colab": {
          "base_uri": "https://localhost:8080/"
        },
        "id": "Pd1WrbWMg7lc",
        "outputId": "f33aee11-4b85-4ebc-a9c6-1a0f308294da"
      },
      "execution_count": null,
      "outputs": [
        {
          "output_type": "stream",
          "name": "stdout",
          "text": [
            "Epoch 1/50\n",
            "1/1 [==============================] - 0s 462ms/step - loss: 19.9459\n",
            "Epoch 2/50\n",
            "1/1 [==============================] - 0s 10ms/step - loss: 15.7123\n",
            "Epoch 3/50\n",
            "1/1 [==============================] - 0s 10ms/step - loss: 12.3811\n",
            "Epoch 4/50\n",
            "1/1 [==============================] - 0s 9ms/step - loss: 9.7598\n",
            "Epoch 5/50\n",
            "1/1 [==============================] - 0s 9ms/step - loss: 7.6972\n",
            "Epoch 6/50\n",
            "1/1 [==============================] - 0s 9ms/step - loss: 6.0740\n",
            "Epoch 7/50\n",
            "1/1 [==============================] - 0s 9ms/step - loss: 4.7966\n",
            "Epoch 8/50\n",
            "1/1 [==============================] - 0s 9ms/step - loss: 3.7912\n",
            "Epoch 9/50\n",
            "1/1 [==============================] - 0s 9ms/step - loss: 2.9999\n",
            "Epoch 10/50\n",
            "1/1 [==============================] - 0s 10ms/step - loss: 2.3769\n",
            "Epoch 11/50\n",
            "1/1 [==============================] - 0s 13ms/step - loss: 1.8865\n",
            "Epoch 12/50\n",
            "1/1 [==============================] - 0s 10ms/step - loss: 1.5003\n",
            "Epoch 13/50\n",
            "1/1 [==============================] - 0s 14ms/step - loss: 1.1961\n",
            "Epoch 14/50\n",
            "1/1 [==============================] - 0s 11ms/step - loss: 0.9565\n",
            "Epoch 15/50\n",
            "1/1 [==============================] - 0s 11ms/step - loss: 0.7677\n",
            "Epoch 16/50\n",
            "1/1 [==============================] - 0s 10ms/step - loss: 0.6188\n",
            "Epoch 17/50\n",
            "1/1 [==============================] - 0s 9ms/step - loss: 0.5013\n",
            "Epoch 18/50\n",
            "1/1 [==============================] - 0s 9ms/step - loss: 0.4086\n",
            "Epoch 19/50\n",
            "1/1 [==============================] - 0s 9ms/step - loss: 0.3354\n",
            "Epoch 20/50\n",
            "1/1 [==============================] - 0s 15ms/step - loss: 0.2775\n",
            "Epoch 21/50\n",
            "1/1 [==============================] - 0s 16ms/step - loss: 0.2317\n",
            "Epoch 22/50\n",
            "1/1 [==============================] - 0s 11ms/step - loss: 0.1954\n",
            "Epoch 23/50\n",
            "1/1 [==============================] - 0s 13ms/step - loss: 0.1665\n",
            "Epoch 24/50\n",
            "1/1 [==============================] - 0s 12ms/step - loss: 0.1436\n",
            "Epoch 25/50\n",
            "1/1 [==============================] - 0s 12ms/step - loss: 0.1252\n",
            "Epoch 26/50\n",
            "1/1 [==============================] - 0s 14ms/step - loss: 0.1106\n",
            "Epoch 27/50\n",
            "1/1 [==============================] - 0s 13ms/step - loss: 0.0988\n",
            "Epoch 28/50\n",
            "1/1 [==============================] - 0s 19ms/step - loss: 0.0893\n",
            "Epoch 29/50\n",
            "1/1 [==============================] - 0s 10ms/step - loss: 0.0815\n",
            "Epoch 30/50\n",
            "1/1 [==============================] - 0s 11ms/step - loss: 0.0752\n",
            "Epoch 31/50\n",
            "1/1 [==============================] - 0s 10ms/step - loss: 0.0700\n",
            "Epoch 32/50\n",
            "1/1 [==============================] - 0s 10ms/step - loss: 0.0657\n",
            "Epoch 33/50\n",
            "1/1 [==============================] - 0s 10ms/step - loss: 0.0621\n",
            "Epoch 34/50\n",
            "1/1 [==============================] - 0s 10ms/step - loss: 0.0591\n",
            "Epoch 35/50\n",
            "1/1 [==============================] - 0s 9ms/step - loss: 0.0565\n",
            "Epoch 36/50\n",
            "1/1 [==============================] - 0s 11ms/step - loss: 0.0542\n",
            "Epoch 37/50\n",
            "1/1 [==============================] - 0s 14ms/step - loss: 0.0522\n",
            "Epoch 38/50\n",
            "1/1 [==============================] - 0s 16ms/step - loss: 0.0505\n",
            "Epoch 39/50\n",
            "1/1 [==============================] - 0s 12ms/step - loss: 0.0489\n",
            "Epoch 40/50\n",
            "1/1 [==============================] - 0s 10ms/step - loss: 0.0475\n",
            "Epoch 41/50\n",
            "1/1 [==============================] - 0s 11ms/step - loss: 0.0462\n",
            "Epoch 42/50\n",
            "1/1 [==============================] - 0s 11ms/step - loss: 0.0450\n",
            "Epoch 43/50\n",
            "1/1 [==============================] - 0s 11ms/step - loss: 0.0438\n",
            "Epoch 44/50\n",
            "1/1 [==============================] - 0s 10ms/step - loss: 0.0428\n",
            "Epoch 45/50\n",
            "1/1 [==============================] - 0s 9ms/step - loss: 0.0418\n",
            "Epoch 46/50\n",
            "1/1 [==============================] - 0s 10ms/step - loss: 0.0408\n",
            "Epoch 47/50\n",
            "1/1 [==============================] - 0s 9ms/step - loss: 0.0399\n",
            "Epoch 48/50\n",
            "1/1 [==============================] - 0s 9ms/step - loss: 0.0390\n",
            "Epoch 49/50\n",
            "1/1 [==============================] - 0s 9ms/step - loss: 0.0382\n",
            "Epoch 50/50\n",
            "1/1 [==============================] - 0s 9ms/step - loss: 0.0373\n"
          ]
        },
        {
          "output_type": "execute_result",
          "data": {
            "text/plain": [
              "<keras.src.callbacks.History at 0x7813e8b1f220>"
            ]
          },
          "metadata": {},
          "execution_count": 7
        }
      ]
    },
    {
      "cell_type": "code",
      "source": [
        "# Aplcair o modelo\n",
        "print(model.predict([10.0]))"
      ],
      "metadata": {
        "colab": {
          "base_uri": "https://localhost:8080/"
        },
        "id": "R5mFtvcOg87z",
        "outputId": "ba5a87eb-aed4-4892-c9cd-b9a0ba0f3b40"
      },
      "execution_count": null,
      "outputs": [
        {
          "output_type": "stream",
          "name": "stdout",
          "text": [
            "1/1 [==============================] - 0s 101ms/step\n",
            "[[31.516792]]\n"
          ]
        }
      ]
    }
  ]
}